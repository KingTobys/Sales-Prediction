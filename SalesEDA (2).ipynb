{
 "cells": [
  {
   "cell_type": "code",
   "execution_count": 1,
   "id": "dfb4c212-8ee2-4a55-bbf5-fc09a48686d3",
   "metadata": {},
   "outputs": [
    {
     "name": "stdout",
     "output_type": "stream",
     "text": [
      "Requirement already satisfied: pandas in /usr/local/lib/python3.8/dist-packages (1.2.4)\n",
      "Requirement already satisfied: pytz>=2017.3 in /usr/local/lib/python3.8/dist-packages (from pandas) (2021.1)\n",
      "Requirement already satisfied: numpy>=1.16.5 in /usr/local/lib/python3.8/dist-packages (from pandas) (1.19.2)\n",
      "Requirement already satisfied: python-dateutil>=2.7.3 in /usr/local/lib/python3.8/dist-packages (from pandas) (2.8.1)\n",
      "Requirement already satisfied: six>=1.5 in /usr/local/lib/python3.8/dist-packages (from python-dateutil>=2.7.3->pandas) (1.15.0)\n",
      "Note: you may need to restart the kernel to use updated packages.\n"
     ]
    }
   ],
   "source": [
    "pip install pandas"
   ]
  },
  {
   "cell_type": "code",
   "execution_count": 2,
   "id": "829b01bc-6838-4b49-8e95-501b64c32e6f",
   "metadata": {},
   "outputs": [],
   "source": [
    "import pandas as pd"
   ]
  },
  {
   "cell_type": "code",
   "execution_count": 12,
   "id": "5bb71297-599a-496e-af1c-831fd619e939",
   "metadata": {},
   "outputs": [],
   "source": [
    "df= pd.read_csv('sample_sales_data.csv')\n",
    "df.drop(columns=['Unnamed: 0'],inplace=True, errors='ignore')"
   ]
  },
  {
   "cell_type": "code",
   "execution_count": 13,
   "id": "d6c15522-78df-4595-b449-698f5ad5349f",
   "metadata": {},
   "outputs": [
    {
     "data": {
      "text/html": [
       "<div>\n",
       "<style scoped>\n",
       "    .dataframe tbody tr th:only-of-type {\n",
       "        vertical-align: middle;\n",
       "    }\n",
       "\n",
       "    .dataframe tbody tr th {\n",
       "        vertical-align: top;\n",
       "    }\n",
       "\n",
       "    .dataframe thead th {\n",
       "        text-align: right;\n",
       "    }\n",
       "</style>\n",
       "<table border=\"1\" class=\"dataframe\">\n",
       "  <thead>\n",
       "    <tr style=\"text-align: right;\">\n",
       "      <th></th>\n",
       "      <th>transaction_id</th>\n",
       "      <th>timestamp</th>\n",
       "      <th>product_id</th>\n",
       "      <th>category</th>\n",
       "      <th>customer_type</th>\n",
       "      <th>unit_price</th>\n",
       "      <th>quantity</th>\n",
       "      <th>total</th>\n",
       "      <th>payment_type</th>\n",
       "    </tr>\n",
       "  </thead>\n",
       "  <tbody>\n",
       "    <tr>\n",
       "      <th>0</th>\n",
       "      <td>a1c82654-c52c-45b3-8ce8-4c2a1efe63ed</td>\n",
       "      <td>2022-03-02 09:51:38</td>\n",
       "      <td>3bc6c1ea-0198-46de-9ffd-514ae3338713</td>\n",
       "      <td>fruit</td>\n",
       "      <td>gold</td>\n",
       "      <td>3.99</td>\n",
       "      <td>2</td>\n",
       "      <td>7.98</td>\n",
       "      <td>e-wallet</td>\n",
       "    </tr>\n",
       "    <tr>\n",
       "      <th>1</th>\n",
       "      <td>931ad550-09e8-4da6-beaa-8c9d17be9c60</td>\n",
       "      <td>2022-03-06 10:33:59</td>\n",
       "      <td>ad81b46c-bf38-41cf-9b54-5fe7f5eba93e</td>\n",
       "      <td>fruit</td>\n",
       "      <td>standard</td>\n",
       "      <td>3.99</td>\n",
       "      <td>1</td>\n",
       "      <td>3.99</td>\n",
       "      <td>e-wallet</td>\n",
       "    </tr>\n",
       "    <tr>\n",
       "      <th>2</th>\n",
       "      <td>ae133534-6f61-4cd6-b6b8-d1c1d8d90aea</td>\n",
       "      <td>2022-03-04 17:20:21</td>\n",
       "      <td>7c55cbd4-f306-4c04-a030-628cbe7867c1</td>\n",
       "      <td>fruit</td>\n",
       "      <td>premium</td>\n",
       "      <td>0.19</td>\n",
       "      <td>2</td>\n",
       "      <td>0.38</td>\n",
       "      <td>e-wallet</td>\n",
       "    </tr>\n",
       "    <tr>\n",
       "      <th>3</th>\n",
       "      <td>157cebd9-aaf0-475d-8a11-7c8e0f5b76e4</td>\n",
       "      <td>2022-03-02 17:23:58</td>\n",
       "      <td>80da8348-1707-403f-8be7-9e6deeccc883</td>\n",
       "      <td>fruit</td>\n",
       "      <td>gold</td>\n",
       "      <td>0.19</td>\n",
       "      <td>4</td>\n",
       "      <td>0.76</td>\n",
       "      <td>e-wallet</td>\n",
       "    </tr>\n",
       "    <tr>\n",
       "      <th>4</th>\n",
       "      <td>a81a6cd3-5e0c-44a2-826c-aea43e46c514</td>\n",
       "      <td>2022-03-05 14:32:43</td>\n",
       "      <td>7f5e86e6-f06f-45f6-bf44-27b095c9ad1d</td>\n",
       "      <td>fruit</td>\n",
       "      <td>basic</td>\n",
       "      <td>4.49</td>\n",
       "      <td>2</td>\n",
       "      <td>8.98</td>\n",
       "      <td>debit card</td>\n",
       "    </tr>\n",
       "  </tbody>\n",
       "</table>\n",
       "</div>"
      ],
      "text/plain": [
       "                         transaction_id            timestamp  \\\n",
       "0  a1c82654-c52c-45b3-8ce8-4c2a1efe63ed  2022-03-02 09:51:38   \n",
       "1  931ad550-09e8-4da6-beaa-8c9d17be9c60  2022-03-06 10:33:59   \n",
       "2  ae133534-6f61-4cd6-b6b8-d1c1d8d90aea  2022-03-04 17:20:21   \n",
       "3  157cebd9-aaf0-475d-8a11-7c8e0f5b76e4  2022-03-02 17:23:58   \n",
       "4  a81a6cd3-5e0c-44a2-826c-aea43e46c514  2022-03-05 14:32:43   \n",
       "\n",
       "                             product_id category customer_type  unit_price  \\\n",
       "0  3bc6c1ea-0198-46de-9ffd-514ae3338713    fruit          gold        3.99   \n",
       "1  ad81b46c-bf38-41cf-9b54-5fe7f5eba93e    fruit      standard        3.99   \n",
       "2  7c55cbd4-f306-4c04-a030-628cbe7867c1    fruit       premium        0.19   \n",
       "3  80da8348-1707-403f-8be7-9e6deeccc883    fruit          gold        0.19   \n",
       "4  7f5e86e6-f06f-45f6-bf44-27b095c9ad1d    fruit         basic        4.49   \n",
       "\n",
       "   quantity  total payment_type  \n",
       "0         2   7.98     e-wallet  \n",
       "1         1   3.99     e-wallet  \n",
       "2         2   0.38     e-wallet  \n",
       "3         4   0.76     e-wallet  \n",
       "4         2   8.98   debit card  "
      ]
     },
     "execution_count": 13,
     "metadata": {},
     "output_type": "execute_result"
    }
   ],
   "source": [
    "df.head()"
   ]
  },
  {
   "cell_type": "code",
   "execution_count": 14,
   "id": "c099c23c-583a-4a01-aaf3-2a44aebd69ad",
   "metadata": {},
   "outputs": [
    {
     "data": {
      "text/html": [
       "<div>\n",
       "<style scoped>\n",
       "    .dataframe tbody tr th:only-of-type {\n",
       "        vertical-align: middle;\n",
       "    }\n",
       "\n",
       "    .dataframe tbody tr th {\n",
       "        vertical-align: top;\n",
       "    }\n",
       "\n",
       "    .dataframe thead th {\n",
       "        text-align: right;\n",
       "    }\n",
       "</style>\n",
       "<table border=\"1\" class=\"dataframe\">\n",
       "  <thead>\n",
       "    <tr style=\"text-align: right;\">\n",
       "      <th></th>\n",
       "      <th>transaction_id</th>\n",
       "      <th>timestamp</th>\n",
       "      <th>product_id</th>\n",
       "      <th>category</th>\n",
       "      <th>customer_type</th>\n",
       "      <th>unit_price</th>\n",
       "      <th>quantity</th>\n",
       "      <th>total</th>\n",
       "      <th>payment_type</th>\n",
       "    </tr>\n",
       "  </thead>\n",
       "  <tbody>\n",
       "    <tr>\n",
       "      <th>7826</th>\n",
       "      <td>79aee7d6-1405-4345-9a15-92541e9e1e74</td>\n",
       "      <td>2022-03-03 14:00:09</td>\n",
       "      <td>a9325c1a-2715-41df-b7f4-3078fa5ecd97</td>\n",
       "      <td>cleaning products</td>\n",
       "      <td>basic</td>\n",
       "      <td>14.19</td>\n",
       "      <td>2</td>\n",
       "      <td>28.38</td>\n",
       "      <td>credit card</td>\n",
       "    </tr>\n",
       "    <tr>\n",
       "      <th>7827</th>\n",
       "      <td>e5cc4f88-e5b7-4ad5-bc1b-12a828a14f55</td>\n",
       "      <td>2022-03-04 15:11:38</td>\n",
       "      <td>707e4237-191c-4cc9-85af-383a6c1cb2ab</td>\n",
       "      <td>cleaning products</td>\n",
       "      <td>basic</td>\n",
       "      <td>16.99</td>\n",
       "      <td>4</td>\n",
       "      <td>67.96</td>\n",
       "      <td>cash</td>\n",
       "    </tr>\n",
       "    <tr>\n",
       "      <th>7828</th>\n",
       "      <td>afd70b4f-ee21-402d-8d8f-0d9e13c2bea6</td>\n",
       "      <td>2022-03-06 13:50:36</td>\n",
       "      <td>d6ccd088-11be-4c25-aa1f-ea87c01a04db</td>\n",
       "      <td>cleaning products</td>\n",
       "      <td>non-member</td>\n",
       "      <td>14.99</td>\n",
       "      <td>4</td>\n",
       "      <td>59.96</td>\n",
       "      <td>debit card</td>\n",
       "    </tr>\n",
       "  </tbody>\n",
       "</table>\n",
       "</div>"
      ],
      "text/plain": [
       "                            transaction_id            timestamp  \\\n",
       "7826  79aee7d6-1405-4345-9a15-92541e9e1e74  2022-03-03 14:00:09   \n",
       "7827  e5cc4f88-e5b7-4ad5-bc1b-12a828a14f55  2022-03-04 15:11:38   \n",
       "7828  afd70b4f-ee21-402d-8d8f-0d9e13c2bea6  2022-03-06 13:50:36   \n",
       "\n",
       "                                product_id           category customer_type  \\\n",
       "7826  a9325c1a-2715-41df-b7f4-3078fa5ecd97  cleaning products         basic   \n",
       "7827  707e4237-191c-4cc9-85af-383a6c1cb2ab  cleaning products         basic   \n",
       "7828  d6ccd088-11be-4c25-aa1f-ea87c01a04db  cleaning products    non-member   \n",
       "\n",
       "      unit_price  quantity  total payment_type  \n",
       "7826       14.19         2  28.38  credit card  \n",
       "7827       16.99         4  67.96         cash  \n",
       "7828       14.99         4  59.96   debit card  "
      ]
     },
     "execution_count": 14,
     "metadata": {},
     "output_type": "execute_result"
    }
   ],
   "source": [
    "df.tail(3)"
   ]
  },
  {
   "cell_type": "code",
   "execution_count": 15,
   "id": "d6008f7d-8b51-4503-ac4b-b0ff65f04ab5",
   "metadata": {},
   "outputs": [
    {
     "data": {
      "text/plain": [
       "Index(['transaction_id', 'timestamp', 'product_id', 'category',\n",
       "       'customer_type', 'unit_price', 'quantity', 'total', 'payment_type'],\n",
       "      dtype='object')"
      ]
     },
     "execution_count": 15,
     "metadata": {},
     "output_type": "execute_result"
    }
   ],
   "source": [
    "df.columns"
   ]
  },
  {
   "cell_type": "code",
   "execution_count": 16,
   "id": "b57005de-eb00-4296-9612-4dd104067d49",
   "metadata": {},
   "outputs": [
    {
     "data": {
      "text/plain": [
       "(7829, 9)"
      ]
     },
     "execution_count": 16,
     "metadata": {},
     "output_type": "execute_result"
    }
   ],
   "source": [
    "df.shape"
   ]
  },
  {
   "cell_type": "code",
   "execution_count": 17,
   "id": "7b302def-b6db-4743-a4dc-153e2c099975",
   "metadata": {},
   "outputs": [
    {
     "data": {
      "text/plain": [
       "transaction_id    7829\n",
       "timestamp         7738\n",
       "product_id         300\n",
       "category            22\n",
       "customer_type        5\n",
       "unit_price          64\n",
       "quantity             4\n",
       "total              256\n",
       "payment_type         4\n",
       "dtype: int64"
      ]
     },
     "execution_count": 17,
     "metadata": {},
     "output_type": "execute_result"
    }
   ],
   "source": [
    "df.nunique()"
   ]
  },
  {
   "cell_type": "code",
   "execution_count": 18,
   "id": "f9b9475d-62c7-4d77-902f-6edf047053b0",
   "metadata": {},
   "outputs": [
    {
     "name": "stdout",
     "output_type": "stream",
     "text": [
      "<class 'pandas.core.frame.DataFrame'>\n",
      "RangeIndex: 7829 entries, 0 to 7828\n",
      "Data columns (total 9 columns):\n",
      " #   Column          Non-Null Count  Dtype  \n",
      "---  ------          --------------  -----  \n",
      " 0   transaction_id  7829 non-null   object \n",
      " 1   timestamp       7829 non-null   object \n",
      " 2   product_id      7829 non-null   object \n",
      " 3   category        7829 non-null   object \n",
      " 4   customer_type   7829 non-null   object \n",
      " 5   unit_price      7829 non-null   float64\n",
      " 6   quantity        7829 non-null   int64  \n",
      " 7   total           7829 non-null   float64\n",
      " 8   payment_type    7829 non-null   object \n",
      "dtypes: float64(2), int64(1), object(6)\n",
      "memory usage: 550.6+ KB\n"
     ]
    }
   ],
   "source": [
    "df.info()"
   ]
  },
  {
   "cell_type": "code",
   "execution_count": 19,
   "id": "bc9e5ef7-900e-449b-8b07-f9f98fc6359d",
   "metadata": {},
   "outputs": [
    {
     "data": {
      "text/plain": [
       "transaction_id    0\n",
       "timestamp         0\n",
       "product_id        0\n",
       "category          0\n",
       "customer_type     0\n",
       "unit_price        0\n",
       "quantity          0\n",
       "total             0\n",
       "payment_type      0\n",
       "dtype: int64"
      ]
     },
     "execution_count": 19,
     "metadata": {},
     "output_type": "execute_result"
    }
   ],
   "source": [
    "df.isnull().sum()"
   ]
  },
  {
   "cell_type": "code",
   "execution_count": 20,
   "id": "d2e035c4-0709-4ca0-be98-b91281fb99cd",
   "metadata": {},
   "outputs": [
    {
     "data": {
      "text/plain": [
       "0       False\n",
       "1       False\n",
       "2       False\n",
       "3       False\n",
       "4       False\n",
       "        ...  \n",
       "7824    False\n",
       "7825    False\n",
       "7826    False\n",
       "7827    False\n",
       "7828    False\n",
       "Length: 7829, dtype: bool"
      ]
     },
     "execution_count": 20,
     "metadata": {},
     "output_type": "execute_result"
    }
   ],
   "source": [
    "df.duplicated()"
   ]
  },
  {
   "cell_type": "markdown",
   "id": "6263e74d-1267-455f-a682-b444ff5bd708",
   "metadata": {},
   "source": [
    "Descriptive Statistics"
   ]
  },
  {
   "cell_type": "code",
   "execution_count": 21,
   "id": "0c5084a5-2a24-4763-8542-f907c951d97e",
   "metadata": {},
   "outputs": [
    {
     "data": {
      "text/plain": [
       "<bound method DataFrame.info of                             transaction_id            timestamp  \\\n",
       "0     a1c82654-c52c-45b3-8ce8-4c2a1efe63ed  2022-03-02 09:51:38   \n",
       "1     931ad550-09e8-4da6-beaa-8c9d17be9c60  2022-03-06 10:33:59   \n",
       "2     ae133534-6f61-4cd6-b6b8-d1c1d8d90aea  2022-03-04 17:20:21   \n",
       "3     157cebd9-aaf0-475d-8a11-7c8e0f5b76e4  2022-03-02 17:23:58   \n",
       "4     a81a6cd3-5e0c-44a2-826c-aea43e46c514  2022-03-05 14:32:43   \n",
       "...                                    ...                  ...   \n",
       "7824  6c19b9fc-f86d-4526-9dfe-d8027a4d13ee  2022-03-03 18:22:09   \n",
       "7825  1c69824b-e399-4b79-a5e7-04a3a7db0681  2022-03-04 19:14:46   \n",
       "7826  79aee7d6-1405-4345-9a15-92541e9e1e74  2022-03-03 14:00:09   \n",
       "7827  e5cc4f88-e5b7-4ad5-bc1b-12a828a14f55  2022-03-04 15:11:38   \n",
       "7828  afd70b4f-ee21-402d-8d8f-0d9e13c2bea6  2022-03-06 13:50:36   \n",
       "\n",
       "                                product_id           category customer_type  \\\n",
       "0     3bc6c1ea-0198-46de-9ffd-514ae3338713              fruit          gold   \n",
       "1     ad81b46c-bf38-41cf-9b54-5fe7f5eba93e              fruit      standard   \n",
       "2     7c55cbd4-f306-4c04-a030-628cbe7867c1              fruit       premium   \n",
       "3     80da8348-1707-403f-8be7-9e6deeccc883              fruit          gold   \n",
       "4     7f5e86e6-f06f-45f6-bf44-27b095c9ad1d              fruit         basic   \n",
       "...                                    ...                ...           ...   \n",
       "7824  bc6187a9-d508-482b-9ca6-590d1cc7524f  cleaning products         basic   \n",
       "7825  707e4237-191c-4cc9-85af-383a6c1cb2ab  cleaning products      standard   \n",
       "7826  a9325c1a-2715-41df-b7f4-3078fa5ecd97  cleaning products         basic   \n",
       "7827  707e4237-191c-4cc9-85af-383a6c1cb2ab  cleaning products         basic   \n",
       "7828  d6ccd088-11be-4c25-aa1f-ea87c01a04db  cleaning products    non-member   \n",
       "\n",
       "      unit_price  quantity  total payment_type  \n",
       "0           3.99         2   7.98     e-wallet  \n",
       "1           3.99         1   3.99     e-wallet  \n",
       "2           0.19         2   0.38     e-wallet  \n",
       "3           0.19         4   0.76     e-wallet  \n",
       "4           4.49         2   8.98   debit card  \n",
       "...          ...       ...    ...          ...  \n",
       "7824       14.19         2  28.38     e-wallet  \n",
       "7825       16.99         1  16.99  credit card  \n",
       "7826       14.19         2  28.38  credit card  \n",
       "7827       16.99         4  67.96         cash  \n",
       "7828       14.99         4  59.96   debit card  \n",
       "\n",
       "[7829 rows x 9 columns]>"
      ]
     },
     "execution_count": 21,
     "metadata": {},
     "output_type": "execute_result"
    }
   ],
   "source": [
    "df.info"
   ]
  },
  {
   "cell_type": "code",
   "execution_count": 23,
   "id": "dab4136c-5702-453d-a577-81af4f5ef2a2",
   "metadata": {},
   "outputs": [
    {
     "data": {
      "text/html": [
       "<div>\n",
       "<style scoped>\n",
       "    .dataframe tbody tr th:only-of-type {\n",
       "        vertical-align: middle;\n",
       "    }\n",
       "\n",
       "    .dataframe tbody tr th {\n",
       "        vertical-align: top;\n",
       "    }\n",
       "\n",
       "    .dataframe thead th {\n",
       "        text-align: right;\n",
       "    }\n",
       "</style>\n",
       "<table border=\"1\" class=\"dataframe\">\n",
       "  <thead>\n",
       "    <tr style=\"text-align: right;\">\n",
       "      <th></th>\n",
       "      <th>unit_price</th>\n",
       "      <th>quantity</th>\n",
       "      <th>total</th>\n",
       "    </tr>\n",
       "  </thead>\n",
       "  <tbody>\n",
       "    <tr>\n",
       "      <th>count</th>\n",
       "      <td>7829.000000</td>\n",
       "      <td>7829.000000</td>\n",
       "      <td>7829.000000</td>\n",
       "    </tr>\n",
       "    <tr>\n",
       "      <th>mean</th>\n",
       "      <td>7.819480</td>\n",
       "      <td>2.501597</td>\n",
       "      <td>19.709905</td>\n",
       "    </tr>\n",
       "    <tr>\n",
       "      <th>std</th>\n",
       "      <td>5.388088</td>\n",
       "      <td>1.122722</td>\n",
       "      <td>17.446680</td>\n",
       "    </tr>\n",
       "    <tr>\n",
       "      <th>min</th>\n",
       "      <td>0.190000</td>\n",
       "      <td>1.000000</td>\n",
       "      <td>0.190000</td>\n",
       "    </tr>\n",
       "    <tr>\n",
       "      <th>25%</th>\n",
       "      <td>3.990000</td>\n",
       "      <td>1.000000</td>\n",
       "      <td>6.570000</td>\n",
       "    </tr>\n",
       "    <tr>\n",
       "      <th>50%</th>\n",
       "      <td>7.190000</td>\n",
       "      <td>3.000000</td>\n",
       "      <td>14.970000</td>\n",
       "    </tr>\n",
       "    <tr>\n",
       "      <th>75%</th>\n",
       "      <td>11.190000</td>\n",
       "      <td>4.000000</td>\n",
       "      <td>28.470000</td>\n",
       "    </tr>\n",
       "    <tr>\n",
       "      <th>max</th>\n",
       "      <td>23.990000</td>\n",
       "      <td>4.000000</td>\n",
       "      <td>95.960000</td>\n",
       "    </tr>\n",
       "  </tbody>\n",
       "</table>\n",
       "</div>"
      ],
      "text/plain": [
       "        unit_price     quantity        total\n",
       "count  7829.000000  7829.000000  7829.000000\n",
       "mean      7.819480     2.501597    19.709905\n",
       "std       5.388088     1.122722    17.446680\n",
       "min       0.190000     1.000000     0.190000\n",
       "25%       3.990000     1.000000     6.570000\n",
       "50%       7.190000     3.000000    14.970000\n",
       "75%      11.190000     4.000000    28.470000\n",
       "max      23.990000     4.000000    95.960000"
      ]
     },
     "execution_count": 23,
     "metadata": {},
     "output_type": "execute_result"
    }
   ],
   "source": [
    "df.describe()"
   ]
  },
  {
   "cell_type": "markdown",
   "id": "4690c275-9c21-444e-9e40-b96ff39a60e4",
   "metadata": {},
   "source": [
    "Visualization"
   ]
  },
  {
   "cell_type": "code",
   "execution_count": 24,
   "id": "cceae615-cb2b-4157-a06a-bd941c39f35c",
   "metadata": {},
   "outputs": [],
   "source": [
    "import seaborn as sns"
   ]
  },
  {
   "cell_type": "code",
   "execution_count": 25,
   "id": "33bb32d1-6595-4811-8b5d-980407f39f26",
   "metadata": {},
   "outputs": [],
   "source": [
    "def plot_continuous_distribution(data: pd.DataFrame = None, column: str = None, height: int = 8):\n",
    "  _ = sns.displot(data, x=column, kde=True, height=height, aspect=height/5).set(title=f'Distribution of {column}');\n",
    "\n",
    "def get_unique_values(data, column):\n",
    "  num_unique_values = len(data[column].unique())\n",
    "  value_counts = data[column].value_counts()\n",
    "  print(f\"Column: {column} has {num_unique_values} unique values\\n\")\n",
    "  print(value_counts)\n",
    "\n",
    "def plot_categorical_distribution(data: pd.DataFrame = None, column: str = None, height: int = 8, aspect: int = 2):\n",
    "  _ = sns.catplot(data=data, x=column, kind='count', height=height, aspect=aspect).set(title=f'Distribution of {column}');"
   ]
  },
  {
   "cell_type": "code",
   "execution_count": 26,
   "id": "545f41dc-3104-4382-9139-899f94e55760",
   "metadata": {},
   "outputs": [
    {
     "data": {
      "image/png": "[encoded data removed]",
      "text/plain": [
       "<Figure size 921.6x576 with 1 Axes>"
      ]
     },
     "metadata": {
      "needs_background": "light"
     },
     "output_type": "display_data"
    }
   ],
   "source": [
    "plot_continuous_distribution(df, 'unit_price')"
   ]
  },
  {
   "cell_type": "markdown",
   "id": "e36629be-2687-4911-bdcf-5f155ef4be0c",
   "metadata": {},
   "source": [
    "It is positively skewed. This implies that more of the items sold are cheaper. It is intuitive as a grocery store will have more cheaper items"
   ]
  },
  {
   "cell_type": "code",
   "execution_count": 27,
   "id": "b06cfbf6-ec5c-48a0-9ae7-d95e66dfd606",
   "metadata": {},
   "outputs": [
    {
     "data": {
      "image/png": "[encoded data removed]",
      "text/plain": [
       "<Figure size 921.6x576 with 1 Axes>"
      ]
     },
     "metadata": {
      "needs_background": "light"
     },
     "output_type": "display_data"
    }
   ],
   "source": [
    "plot_continuous_distribution(df, 'quantity')"
   ]
  },
  {
   "cell_type": "markdown",
   "id": "20fd0c54-4342-4ef9-8c04-53c377e82a88",
   "metadata": {},
   "source": [
    "It can be seen that the customers buy items in whole quantities"
   ]
  },
  {
   "cell_type": "code",
   "execution_count": 28,
   "id": "00b685b3-0634-4465-bed7-e24e96daccab",
   "metadata": {},
   "outputs": [
    {
     "data": {
      "image/png": "[encoded data removed]",
      "text/plain": [
       "<Figure size 921.6x576 with 1 Axes>"
      ]
     },
     "metadata": {
      "needs_background": "light"
     },
     "output_type": "display_data"
    }
   ],
   "source": [
    "plot_continuous_distribution(df, 'total')"
   ]
  },
  {
   "cell_type": "markdown",
   "id": "ffde2902-977a-45ae-acfe-d891c94f0f40",
   "metadata": {},
   "source": [
    "it shows that the total revenue is higher for items that are much cheaper. It is right skewed just like the unit price"
   ]
  },
  {
   "cell_type": "code",
   "execution_count": 29,
   "id": "05501a47-a67f-419a-b3b7-d8489fe6c0c6",
   "metadata": {},
   "outputs": [
    {
     "name": "stdout",
     "output_type": "stream",
     "text": [
      "Column: transaction_id has 7829 unique values\n",
      "\n",
      "6ccbc89f-05df-4619-83c6-442db3004c62    1\n",
      "e68891c4-97c3-4c25-ac3b-662a3c3e0e04    1\n",
      "82e5af13-ca4a-482d-ac63-b44a278123fa    1\n",
      "bea1a777-c2ac-4204-a8d5-04f5556ef999    1\n",
      "05824833-60ec-43b9-84af-4e28b086b59c    1\n",
      "                                       ..\n",
      "0da98784-7f7c-4a17-97fe-4b62e7dfaf95    1\n",
      "1c032f62-2a1c-4092-88bc-ffe46584e1f3    1\n",
      "cd417ab2-94a8-4b28-b18b-4653bb106505    1\n",
      "fbcdce38-1c09-4cc8-bfc9-1bed916bedf3    1\n",
      "7dc4f7de-2d82-4281-853f-7106da9e0022    1\n",
      "Name: transaction_id, Length: 7829, dtype: int64\n"
     ]
    }
   ],
   "source": [
    "get_unique_values(df, 'transaction_id')"
   ]
  },
  {
   "cell_type": "markdown",
   "id": "04b71043-f3a3-4b57-a457-b8fd482779e0",
   "metadata": {},
   "source": [
    "Each id has a uniques value and that is expected as transaction ids are unique. This is not good for graphing as there will be a lot of categories"
   ]
  },
  {
   "cell_type": "code",
   "execution_count": 30,
   "id": "22892a82-c93e-435b-946f-cb45a887c7c9",
   "metadata": {},
   "outputs": [
    {
     "name": "stdout",
     "output_type": "stream",
     "text": [
      "Column: product_id has 300 unique values\n",
      "\n",
      "ecac012c-1dec-41d4-9ebd-56fb7166f6d9    114\n",
      "80da8348-1707-403f-8be7-9e6deeccc883    109\n",
      "0ddc2379-adba-4fb0-aa97-19fcafc738a1    108\n",
      "7c55cbd4-f306-4c04-a030-628cbe7867c1    104\n",
      "3bc6c1ea-0198-46de-9ffd-514ae3338713    101\n",
      "                                       ... \n",
      "5adfc643-aa8e-4140-b2c3-98a946444632      5\n",
      "49f7d4a9-713a-4824-b378-aebb33ff8b2f      5\n",
      "c8de27d0-2c44-4b5a-b178-59c45d054ccb      5\n",
      "a8fab83a-16d4-4db0-a83a-f824ecd8604a      5\n",
      "ec0bb9b5-45e3-4de8-963d-e92aa91a201e      3\n",
      "Name: product_id, Length: 300, dtype: int64\n"
     ]
    }
   ],
   "source": [
    "get_unique_values(df, 'product_id')"
   ]
  },
  {
   "cell_type": "markdown",
   "id": "43e338c3-79e4-4f01-bfc6-598e827d12ab",
   "metadata": {},
   "source": [
    "Each product id may have multiple counts as the product have been sold multiple times\n",
    "This is not great for graphing. However, it is good knowing the product id that sold the most and the least"
   ]
  },
  {
   "cell_type": "code",
   "execution_count": 31,
   "id": "c0daed13-9822-4b48-985a-d453b9f423a3",
   "metadata": {},
   "outputs": [
    {
     "name": "stdout",
     "output_type": "stream",
     "text": [
      "Column: category has 22 unique values\n",
      "\n",
      "fruit                    998\n",
      "vegetables               846\n",
      "packaged foods           507\n",
      "baked goods              443\n",
      "canned foods             431\n",
      "refrigerated items       425\n",
      "kitchen                  382\n",
      "meat                     382\n",
      "dairy                    375\n",
      "beverages                301\n",
      "cheese                   293\n",
      "cleaning products        292\n",
      "baking                   264\n",
      "frozen                   263\n",
      "snacks                   263\n",
      "seafood                  253\n",
      "medicine                 243\n",
      "baby products            224\n",
      "condiments and sauces    181\n",
      "personal care            177\n",
      "pets                     161\n",
      "spices and herbs         125\n",
      "Name: category, dtype: int64\n"
     ]
    }
   ],
   "source": [
    "get_unique_values(df, 'category')"
   ]
  },
  {
   "cell_type": "markdown",
   "id": "91095817-905e-4421-9450-7dd30558743c",
   "metadata": {},
   "source": [
    "We can visualise this as it has a relatively good(Small) number of categories. Also fruit \n",
    "sold the most and spices and herbs the least"
   ]
  },
  {
   "cell_type": "code",
   "execution_count": 33,
   "id": "cee62278-edd2-4cfa-8e8e-b0ecde1c8667",
   "metadata": {},
   "outputs": [
    {
     "data": {
      "image/png": "[encoded data removed]",
      "text/plain": [
       "<Figure size 2520x720 with 1 Axes>"
      ]
     },
     "metadata": {
      "needs_background": "light"
     },
     "output_type": "display_data"
    }
   ],
   "source": [
    "plot_categorical_distribution(df, 'category', height=10, aspect=3.5)"
   ]
  },
  {
   "cell_type": "code",
   "execution_count": 34,
   "id": "453ff1a8-a4e1-41c4-9fb5-3e5d4f65c841",
   "metadata": {},
   "outputs": [
    {
     "name": "stdout",
     "output_type": "stream",
     "text": [
      "Column: customer_type has 5 unique values\n",
      "\n",
      "non-member    1601\n",
      "standard      1595\n",
      "premium       1590\n",
      "basic         1526\n",
      "gold          1517\n",
      "Name: customer_type, dtype: int64\n"
     ]
    }
   ],
   "source": [
    "get_unique_values(df, 'customer_type')"
   ]
  },
  {
   "cell_type": "markdown",
   "id": "2655bfea-ef25-41cf-8470-33f14053e9dd",
   "metadata": {},
   "source": [
    "There are 5 categories and their frequency are very close"
   ]
  },
  {
   "cell_type": "code",
   "execution_count": 35,
   "id": "820c6fe4-4f3d-4e0f-88ae-48d91b8ebcee",
   "metadata": {},
   "outputs": [
    {
     "data": {
      "image/png": "[encoded data removed]",
      "text/plain": [
       "<Figure size 540x360 with 1 Axes>"
      ]
     },
     "metadata": {
      "needs_background": "light"
     },
     "output_type": "display_data"
    }
   ],
   "source": [
    "plot_categorical_distribution(df, 'customer_type', height=5, aspect=1.5)"
   ]
  },
  {
   "cell_type": "markdown",
   "id": "4c697fbc-43b4-4552-b7cc-1dc2d83e58b3",
   "metadata": {},
   "source": [
    "Non members recorded the highest followed by premium and standard"
   ]
  },
  {
   "cell_type": "code",
   "execution_count": 36,
   "id": "c3028aa2-053c-4538-98ce-015a3b5a73f9",
   "metadata": {},
   "outputs": [
    {
     "name": "stdout",
     "output_type": "stream",
     "text": [
      "Column: payment_type has 4 unique values\n",
      "\n",
      "cash           2027\n",
      "credit card    1949\n",
      "e-wallet       1935\n",
      "debit card     1918\n",
      "Name: payment_type, dtype: int64\n"
     ]
    }
   ],
   "source": [
    "get_unique_values(df, 'payment_type')"
   ]
  },
  {
   "cell_type": "code",
   "execution_count": 37,
   "id": "5a5c55bc-6c21-4d39-8ba6-4a5b4b7eb616",
   "metadata": {},
   "outputs": [
    {
     "data": {
      "image/png": "[encoded data removed]",
      "text/plain": [
       "<Figure size 540x360 with 1 Axes>"
      ]
     },
     "metadata": {
      "needs_background": "light"
     },
     "output_type": "display_data"
    }
   ],
   "source": [
    "plot_categorical_distribution(df, 'payment_type', height=5, aspect=1.5)"
   ]
  },
  {
   "cell_type": "markdown",
   "id": "9b70270f-46b3-496a-ad16-761464109aab",
   "metadata": {},
   "source": [
    "Cash was used for more payments, followed by credit cards the e-wallet and debit cards seem to be the same.we can also look at other weeks to see  if they follow similar trend"
   ]
  },
  {
   "cell_type": "code",
   "execution_count": 38,
   "id": "19fcb7ee-687b-4810-9b8d-d532a15090a9",
   "metadata": {},
   "outputs": [
    {
     "name": "stdout",
     "output_type": "stream",
     "text": [
      "Column: timestamp has 7738 unique values\n",
      "\n",
      "2022-03-05 10:11:33    2\n",
      "2022-03-01 18:30:22    2\n",
      "2022-03-04 14:54:30    2\n",
      "2022-03-04 09:01:41    2\n",
      "2022-03-07 13:59:30    2\n",
      "                      ..\n",
      "2022-03-05 18:07:24    1\n",
      "2022-03-07 18:25:44    1\n",
      "2022-03-05 15:10:34    1\n",
      "2022-03-01 14:29:29    1\n",
      "2022-03-02 09:36:18    1\n",
      "Name: timestamp, Length: 7738, dtype: int64\n"
     ]
    }
   ],
   "source": [
    "get_unique_values(df, 'timestamp')"
   ]
  },
  {
   "cell_type": "markdown",
   "id": "b5c03cc2-85ec-4ce9-95b3-4f79d00d8e43",
   "metadata": {},
   "source": [
    "Not worth visualizing but we must connvert the time stamp into a date time format"
   ]
  },
  {
   "cell_type": "code",
   "execution_count": 40,
   "id": "a95f921e-faa1-4860-876c-6070aad38b45",
   "metadata": {},
   "outputs": [],
   "source": [
    "def convert_to_datetime(data: pd.DataFrame = None, column: str = None):\n",
    "\n",
    "  dummy = data.copy()\n",
    "  dummy[column] = pd.to_datetime(dummy[column], format='%Y-%m-%d %H:%M:%S')\n",
    "  return dummy"
   ]
  },
  {
   "cell_type": "code",
   "execution_count": 41,
   "id": "ac260880-37f6-4161-b693-d97d0264fb9b",
   "metadata": {},
   "outputs": [],
   "source": [
    "df = convert_to_datetime(df, 'timestamp')"
   ]
  },
  {
   "cell_type": "code",
   "execution_count": 42,
   "id": "9aebe170-f312-4cc1-b490-6b70ef5bb311",
   "metadata": {},
   "outputs": [
    {
     "name": "stdout",
     "output_type": "stream",
     "text": [
      "<class 'pandas.core.frame.DataFrame'>\n",
      "RangeIndex: 7829 entries, 0 to 7828\n",
      "Data columns (total 9 columns):\n",
      " #   Column          Non-Null Count  Dtype         \n",
      "---  ------          --------------  -----         \n",
      " 0   transaction_id  7829 non-null   object        \n",
      " 1   timestamp       7829 non-null   datetime64[ns]\n",
      " 2   product_id      7829 non-null   object        \n",
      " 3   category        7829 non-null   object        \n",
      " 4   customer_type   7829 non-null   object        \n",
      " 5   unit_price      7829 non-null   float64       \n",
      " 6   quantity        7829 non-null   int64         \n",
      " 7   total           7829 non-null   float64       \n",
      " 8   payment_type    7829 non-null   object        \n",
      "dtypes: datetime64[ns](1), float64(2), int64(1), object(5)\n",
      "memory usage: 550.6+ KB\n"
     ]
    }
   ],
   "source": [
    "df.info()"
   ]
  },
  {
   "cell_type": "code",
   "execution_count": 44,
   "id": "bd5f7b60-0d76-400c-a93e-239ae1018b2f",
   "metadata": {},
   "outputs": [],
   "source": [
    "##Exploding the timestamp to get hoursas a column\n",
    "df['hour'] = df['timestamp'].dt.hour"
   ]
  },
  {
   "cell_type": "code",
   "execution_count": 45,
   "id": "c5e4f556-59b1-49ad-b020-a295ccb83400",
   "metadata": {},
   "outputs": [
    {
     "data": {
      "text/html": [
       "<div>\n",
       "<style scoped>\n",
       "    .dataframe tbody tr th:only-of-type {\n",
       "        vertical-align: middle;\n",
       "    }\n",
       "\n",
       "    .dataframe tbody tr th {\n",
       "        vertical-align: top;\n",
       "    }\n",
       "\n",
       "    .dataframe thead th {\n",
       "        text-align: right;\n",
       "    }\n",
       "</style>\n",
       "<table border=\"1\" class=\"dataframe\">\n",
       "  <thead>\n",
       "    <tr style=\"text-align: right;\">\n",
       "      <th></th>\n",
       "      <th>transaction_id</th>\n",
       "      <th>timestamp</th>\n",
       "      <th>product_id</th>\n",
       "      <th>category</th>\n",
       "      <th>customer_type</th>\n",
       "      <th>unit_price</th>\n",
       "      <th>quantity</th>\n",
       "      <th>total</th>\n",
       "      <th>payment_type</th>\n",
       "      <th>hour</th>\n",
       "    </tr>\n",
       "  </thead>\n",
       "  <tbody>\n",
       "    <tr>\n",
       "      <th>0</th>\n",
       "      <td>a1c82654-c52c-45b3-8ce8-4c2a1efe63ed</td>\n",
       "      <td>2022-03-02 09:51:38</td>\n",
       "      <td>3bc6c1ea-0198-46de-9ffd-514ae3338713</td>\n",
       "      <td>fruit</td>\n",
       "      <td>gold</td>\n",
       "      <td>3.99</td>\n",
       "      <td>2</td>\n",
       "      <td>7.98</td>\n",
       "      <td>e-wallet</td>\n",
       "      <td>9</td>\n",
       "    </tr>\n",
       "    <tr>\n",
       "      <th>1</th>\n",
       "      <td>931ad550-09e8-4da6-beaa-8c9d17be9c60</td>\n",
       "      <td>2022-03-06 10:33:59</td>\n",
       "      <td>ad81b46c-bf38-41cf-9b54-5fe7f5eba93e</td>\n",
       "      <td>fruit</td>\n",
       "      <td>standard</td>\n",
       "      <td>3.99</td>\n",
       "      <td>1</td>\n",
       "      <td>3.99</td>\n",
       "      <td>e-wallet</td>\n",
       "      <td>10</td>\n",
       "    </tr>\n",
       "    <tr>\n",
       "      <th>2</th>\n",
       "      <td>ae133534-6f61-4cd6-b6b8-d1c1d8d90aea</td>\n",
       "      <td>2022-03-04 17:20:21</td>\n",
       "      <td>7c55cbd4-f306-4c04-a030-628cbe7867c1</td>\n",
       "      <td>fruit</td>\n",
       "      <td>premium</td>\n",
       "      <td>0.19</td>\n",
       "      <td>2</td>\n",
       "      <td>0.38</td>\n",
       "      <td>e-wallet</td>\n",
       "      <td>17</td>\n",
       "    </tr>\n",
       "    <tr>\n",
       "      <th>3</th>\n",
       "      <td>157cebd9-aaf0-475d-8a11-7c8e0f5b76e4</td>\n",
       "      <td>2022-03-02 17:23:58</td>\n",
       "      <td>80da8348-1707-403f-8be7-9e6deeccc883</td>\n",
       "      <td>fruit</td>\n",
       "      <td>gold</td>\n",
       "      <td>0.19</td>\n",
       "      <td>4</td>\n",
       "      <td>0.76</td>\n",
       "      <td>e-wallet</td>\n",
       "      <td>17</td>\n",
       "    </tr>\n",
       "    <tr>\n",
       "      <th>4</th>\n",
       "      <td>a81a6cd3-5e0c-44a2-826c-aea43e46c514</td>\n",
       "      <td>2022-03-05 14:32:43</td>\n",
       "      <td>7f5e86e6-f06f-45f6-bf44-27b095c9ad1d</td>\n",
       "      <td>fruit</td>\n",
       "      <td>basic</td>\n",
       "      <td>4.49</td>\n",
       "      <td>2</td>\n",
       "      <td>8.98</td>\n",
       "      <td>debit card</td>\n",
       "      <td>14</td>\n",
       "    </tr>\n",
       "  </tbody>\n",
       "</table>\n",
       "</div>"
      ],
      "text/plain": [
       "                         transaction_id           timestamp  \\\n",
       "0  a1c82654-c52c-45b3-8ce8-4c2a1efe63ed 2022-03-02 09:51:38   \n",
       "1  931ad550-09e8-4da6-beaa-8c9d17be9c60 2022-03-06 10:33:59   \n",
       "2  ae133534-6f61-4cd6-b6b8-d1c1d8d90aea 2022-03-04 17:20:21   \n",
       "3  157cebd9-aaf0-475d-8a11-7c8e0f5b76e4 2022-03-02 17:23:58   \n",
       "4  a81a6cd3-5e0c-44a2-826c-aea43e46c514 2022-03-05 14:32:43   \n",
       "\n",
       "                             product_id category customer_type  unit_price  \\\n",
       "0  3bc6c1ea-0198-46de-9ffd-514ae3338713    fruit          gold        3.99   \n",
       "1  ad81b46c-bf38-41cf-9b54-5fe7f5eba93e    fruit      standard        3.99   \n",
       "2  7c55cbd4-f306-4c04-a030-628cbe7867c1    fruit       premium        0.19   \n",
       "3  80da8348-1707-403f-8be7-9e6deeccc883    fruit          gold        0.19   \n",
       "4  7f5e86e6-f06f-45f6-bf44-27b095c9ad1d    fruit         basic        4.49   \n",
       "\n",
       "   quantity  total payment_type  hour  \n",
       "0         2   7.98     e-wallet     9  \n",
       "1         1   3.99     e-wallet    10  \n",
       "2         2   0.38     e-wallet    17  \n",
       "3         4   0.76     e-wallet    17  \n",
       "4         2   8.98   debit card    14  "
      ]
     },
     "execution_count": 45,
     "metadata": {},
     "output_type": "execute_result"
    }
   ],
   "source": [
    "df.head()"
   ]
  },
  {
   "cell_type": "code",
   "execution_count": 46,
   "id": "05e81d56-bfd0-44c6-af05-f2bd8fdefdf3",
   "metadata": {},
   "outputs": [
    {
     "name": "stdout",
     "output_type": "stream",
     "text": [
      "Column: hour has 11 unique values\n",
      "\n",
      "11    738\n",
      "16    730\n",
      "18    727\n",
      "10    723\n",
      "12    721\n",
      "9     718\n",
      "19    709\n",
      "14    702\n",
      "17    699\n",
      "13    693\n",
      "15    669\n",
      "Name: hour, dtype: int64\n"
     ]
    }
   ],
   "source": [
    "get_unique_values(df, 'hour')"
   ]
  },
  {
   "cell_type": "markdown",
   "id": "76c403a6-a93f-465c-b362-0272cca07a6b",
   "metadata": {},
   "source": [
    "From this we can see that the 11th, 16th and 18th hour of the day are the top 3 hours of the day for transactions being processed"
   ]
  },
  {
   "cell_type": "markdown",
   "id": "5f2cccc7-f4ba-4b0c-b154-9660f5faf31f",
   "metadata": {},
   "source": [
    "Correlations"
   ]
  },
  {
   "cell_type": "code",
   "execution_count": 48,
   "id": "fc583cef-a557-44d7-8845-601c76cc5160",
   "metadata": {},
   "outputs": [
    {
     "data": {
      "text/html": [
       "<style  type=\"text/css\" >\n",
       "#T_34363_row0_col0,#T_34363_row1_col1,#T_34363_row2_col2,#T_34363_row3_col3{\n",
       "            background-color:  #b40426;\n",
       "            color:  #f1f1f1;\n",
       "        }#T_34363_row0_col1{\n",
       "            background-color:  #445acc;\n",
       "            color:  #f1f1f1;\n",
       "        }#T_34363_row0_col2,#T_34363_row2_col0{\n",
       "            background-color:  #ef886b;\n",
       "            color:  #000000;\n",
       "        }#T_34363_row0_col3,#T_34363_row2_col3{\n",
       "            background-color:  #3f53c6;\n",
       "            color:  #f1f1f1;\n",
       "        }#T_34363_row1_col0{\n",
       "            background-color:  #3e51c5;\n",
       "            color:  #f1f1f1;\n",
       "        }#T_34363_row1_col2{\n",
       "            background-color:  #e1dad6;\n",
       "            color:  #000000;\n",
       "        }#T_34363_row1_col3,#T_34363_row3_col0,#T_34363_row3_col1,#T_34363_row3_col2{\n",
       "            background-color:  #3b4cc0;\n",
       "            color:  #f1f1f1;\n",
       "        }#T_34363_row2_col1{\n",
       "            background-color:  #e3d9d3;\n",
       "            color:  #000000;\n",
       "        }</style><table id=\"T_34363_\" ><thead>    <tr>        <th class=\"blank level0\" ></th>        <th class=\"col_heading level0 col0\" >unit_price</th>        <th class=\"col_heading level0 col1\" >quantity</th>        <th class=\"col_heading level0 col2\" >total</th>        <th class=\"col_heading level0 col3\" >hour</th>    </tr></thead><tbody>\n",
       "                <tr>\n",
       "                        <th id=\"T_34363_level0_row0\" class=\"row_heading level0 row0\" >unit_price</th>\n",
       "                        <td id=\"T_34363_row0_col0\" class=\"data row0 col0\" >1.000000</td>\n",
       "                        <td id=\"T_34363_row0_col1\" class=\"data row0 col1\" >0.024588</td>\n",
       "                        <td id=\"T_34363_row0_col2\" class=\"data row0 col2\" >0.792018</td>\n",
       "                        <td id=\"T_34363_row0_col3\" class=\"data row0 col3\" >0.010842</td>\n",
       "            </tr>\n",
       "            <tr>\n",
       "                        <th id=\"T_34363_level0_row1\" class=\"row_heading level0 row1\" >quantity</th>\n",
       "                        <td id=\"T_34363_row1_col0\" class=\"data row1 col0\" >0.024588</td>\n",
       "                        <td id=\"T_34363_row1_col1\" class=\"data row1 col1\" >1.000000</td>\n",
       "                        <td id=\"T_34363_row1_col2\" class=\"data row1 col2\" >0.521926</td>\n",
       "                        <td id=\"T_34363_row1_col3\" class=\"data row1 col3\" >-0.008410</td>\n",
       "            </tr>\n",
       "            <tr>\n",
       "                        <th id=\"T_34363_level0_row2\" class=\"row_heading level0 row2\" >total</th>\n",
       "                        <td id=\"T_34363_row2_col0\" class=\"data row2 col0\" >0.792018</td>\n",
       "                        <td id=\"T_34363_row2_col1\" class=\"data row2 col1\" >0.521926</td>\n",
       "                        <td id=\"T_34363_row2_col2\" class=\"data row2 col2\" >1.000000</td>\n",
       "                        <td id=\"T_34363_row2_col3\" class=\"data row2 col3\" >0.010354</td>\n",
       "            </tr>\n",
       "            <tr>\n",
       "                        <th id=\"T_34363_level0_row3\" class=\"row_heading level0 row3\" >hour</th>\n",
       "                        <td id=\"T_34363_row3_col0\" class=\"data row3 col0\" >0.010842</td>\n",
       "                        <td id=\"T_34363_row3_col1\" class=\"data row3 col1\" >-0.008410</td>\n",
       "                        <td id=\"T_34363_row3_col2\" class=\"data row3 col2\" >0.010354</td>\n",
       "                        <td id=\"T_34363_row3_col3\" class=\"data row3 col3\" >1.000000</td>\n",
       "            </tr>\n",
       "    </tbody></table>"
      ],
      "text/plain": [
       "<pandas.io.formats.style.Styler at 0x7fbb75798c10>"
      ]
     },
     "execution_count": 48,
     "metadata": {},
     "output_type": "execute_result"
    }
   ],
   "source": [
    "corr = df.corr()\n",
    "corr.style.background_gradient(cmap='coolwarm')"
   ]
  },
  {
   "cell_type": "code",
   "execution_count": null,
   "id": "cd3357a0-5cc6-4f45-8db6-8dc0221e0895",
   "metadata": {},
   "outputs": [],
   "source": []
  },
  {
   "cell_type": "code",
   "execution_count": null,
   "id": "c802128c-d63a-4def-a91a-3a8a56df37ff",
   "metadata": {},
   "outputs": [],
   "source": []
  },
  {
   "cell_type": "code",
   "execution_count": null,
   "id": "d49554cc-4910-40fe-abeb-a9d632923a09",
   "metadata": {},
   "outputs": [],
   "source": []
  },
  {
   "cell_type": "code",
   "execution_count": null,
   "id": "082993a8-a299-4841-a9de-111d1a4f0d00",
   "metadata": {},
   "outputs": [],
   "source": []
  },
  {
   "cell_type": "code",
   "execution_count": null,
   "id": "da71c5aa-850e-4171-986a-ffd102e2498b",
   "metadata": {},
   "outputs": [],
   "source": []
  },
  {
   "cell_type": "code",
   "execution_count": null,
   "id": "38a06cdd-1519-433f-95cf-15378dc62e68",
   "metadata": {},
   "outputs": [],
   "source": []
  },
  {
   "cell_type": "code",
   "execution_count": null,
   "id": "015896c1-3f0d-49b5-9347-375f9e480555",
   "metadata": {},
   "outputs": [],
   "source": []
  }
 ],
 "metadata": {
  "kernelspec": {
   "display_name": "Python 3 (ipykernel)",
   "language": "python",
   "name": "python3"
  },
  "language_info": {
   "codemirror_mode": {
    "name": "ipython",
    "version": 3
   },
   "file_extension": ".py",
   "mimetype": "text/x-python",
   "name": "python",
   "nbconvert_exporter": "python",
   "pygments_lexer": "ipython3",
   "version": "3.9.13"
  }
 },
 "nbformat": 4,
 "nbformat_minor": 5
}
